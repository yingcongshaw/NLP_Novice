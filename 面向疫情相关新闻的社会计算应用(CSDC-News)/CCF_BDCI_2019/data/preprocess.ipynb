{
 "cells": [
  {
   "cell_type": "code",
   "execution_count": 2,
   "metadata": {},
   "outputs": [],
   "source": [
    "import pandas as pd\n",
    "import os\n",
    "import random\n"
   ]
  },
  {
   "cell_type": "code",
   "execution_count": 3,
   "metadata": {},
   "outputs": [],
   "source": [
    "\n",
    "#############初赛数据\n",
    "#训练集:7340条\n",
    "#测试集:7356条\n",
    "######\n",
    "train_df=pd.read_csv(\"Train_DataSet.csv\")\n",
    "train_label_df=pd.read_csv(\"Train_DataSet_Label.csv\")\n",
    "#test_df=pd.read_csv(\"Test_DataSet.csv\")\n",
    "train_df=train_df.merge(train_label_df,on='id',how='left')\n",
    "train_df['label']=train_df['label'].fillna(-1)\n",
    "train_df=train_df[train_df['label']!=-1]\n",
    "train_df['label']=train_df['label'].astype(int)\n",
    "#test_df['label']=0\n",
    "\n",
    "#test_df['content']=test_df['content'].fillna('无')\n",
    "train_df['content']=train_df['content'].fillna('无')\n",
    "#test_df['title']=test_df['title'].fillna('无')\n",
    "train_df['title']=train_df['title'].fillna('无')"
   ]
  },
  {
   "cell_type": "code",
   "execution_count": null,
   "metadata": {},
   "outputs": [],
   "source": [
    "#############复赛数据\n",
    "#训练集:7356条\n",
    "#测试集:7356条\n",
    "######\n",
    "train_df_sec=pd.read_csv(\"Second_DataSet.csv\")\n",
    "train_label_df_sec=pd.read_csv(\"Second_DataSet_Label.csv\")\n",
    "test_df_sec=pd.read_csv(\"Second_TestDataSet.csv\")\n",
    "train_df_sec=train_df_sec.merge(train_label_df_sec,on='id',how='left')\n",
    "train_df_sec['label']=train_df_sec['label'].fillna(-1)\n",
    "train_df_sec=train_df_sec[train_df_sec['label']!=-1]\n",
    "train_df_sec['label']=train_df_sec['label'].astype(int)\n",
    "test_df_sec['label']=0\n",
    "\n",
    "test_df_sec['content']=test_df_sec['content'].fillna('无')\n",
    "train_df_sec['content']=train_df_sec['content'].fillna('无')\n",
    "test_df_sec['title']=test_df_sec['title'].fillna('无')\n",
    "train_df_sec['title']=train_df_sec['title'].fillna('无')"
   ]
  },
  {
   "cell_type": "code",
   "execution_count": null,
   "metadata": {},
   "outputs": [],
   "source": [
    "#7340+7356=14696   为保证进行10fold,共14695条\n",
    "train_df = pd.concat([train_df.sample(n=7339, random_state=1), train_df_sec], axis=0)"
   ]
  },
  {
   "cell_type": "code",
   "execution_count": 6,
   "metadata": {},
   "outputs": [],
   "source": [
    "train_df.to_csv('./train.csv')\n",
    "train_df.to_csv('./dev.csv')\n",
    "# test_df.to_csv('data/test.csv')"
   ]
  }
 ],
 "metadata": {
  "kernelspec": {
   "display_name": "nlp",
   "language": "python",
   "name": "python3"
  },
  "language_info": {
   "codemirror_mode": {
    "name": "ipython",
    "version": 3
   },
   "file_extension": ".py",
   "mimetype": "text/x-python",
   "name": "python",
   "nbconvert_exporter": "python",
   "pygments_lexer": "ipython3",
   "version": "3.10.9"
  },
  "orig_nbformat": 4
 },
 "nbformat": 4,
 "nbformat_minor": 2
}
