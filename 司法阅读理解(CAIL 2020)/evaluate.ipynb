{
 "cells": [
  {
   "attachments": {},
   "cell_type": "markdown",
   "metadata": {},
   "source": [
    "## chinese-bert-wwm"
   ]
  },
  {
   "cell_type": "code",
   "execution_count": null,
   "metadata": {},
   "outputs": [],
   "source": [
    "for i in range(1,26):\n",
    "    !python baseline/evaluate.py  ./output/submissions/chinese-bert-wwm_e25/pred_seed_56_epoch_{i}_99999.json ./data/dev.json"
   ]
  },
  {
   "attachments": {},
   "cell_type": "markdown",
   "metadata": {},
   "source": [
    "## chinese-roberta-wwm-ext"
   ]
  },
  {
   "cell_type": "code",
   "execution_count": null,
   "metadata": {},
   "outputs": [],
   "source": [
    "for i in range(1,26):\n",
    "    !python baseline/evaluate.py  ./output/submissions/chinese-roberta-wwm-ext_e25/pred_seed_56_epoch_{i}_99999.json ./data/dev.json"
   ]
  },
  {
   "attachments": {},
   "cell_type": "markdown",
   "metadata": {},
   "source": [
    "## chinese-roberta-wwm-ext-large"
   ]
  },
  {
   "cell_type": "code",
   "execution_count": null,
   "metadata": {},
   "outputs": [],
   "source": [
    "for i in range(1,26):\n",
    "    !python baseline/evaluate.py  ./output/submissions/chinese-roberta-wwm-ext-large_e25/pred_seed_56_epoch_{i}_99999.json ./data/dev.json"
   ]
  },
  {
   "attachments": {},
   "cell_type": "markdown",
   "metadata": {},
   "source": [
    "## 清华民事文书BERT：thunlp-ms"
   ]
  },
  {
   "cell_type": "code",
   "execution_count": null,
   "metadata": {},
   "outputs": [],
   "source": [
    "for i in range(1,26):\n",
    "    !python baseline/evaluate.py  ./output/submissions/thunlp-ms/pred_seed_56_epoch_{i}_99999.json ./data/dev.json"
   ]
  },
  {
   "attachments": {},
   "cell_type": "markdown",
   "metadata": {},
   "source": [
    "## chinese-roberta-wwm-ext-large + 2019 训练数据"
   ]
  },
  {
   "cell_type": "code",
   "execution_count": null,
   "metadata": {},
   "outputs": [],
   "source": [
    "for i in range(1,26):\n",
    "    !python baseline/evaluate.py  ./output/submissions/chinese-roberta-wwm-ext-large_add19/pred_seed_56_epoch_{i}_99999.json ./data/dev.json"
   ]
  }
 ],
 "metadata": {
  "kernelspec": {
   "display_name": "nlp",
   "language": "python",
   "name": "python3"
  },
  "language_info": {
   "codemirror_mode": {
    "name": "ipython",
    "version": 3
   },
   "file_extension": ".py",
   "mimetype": "text/x-python",
   "name": "python",
   "nbconvert_exporter": "python",
   "pygments_lexer": "ipython3",
   "version": "3.10.9"
  },
  "orig_nbformat": 4
 },
 "nbformat": 4,
 "nbformat_minor": 2
}
