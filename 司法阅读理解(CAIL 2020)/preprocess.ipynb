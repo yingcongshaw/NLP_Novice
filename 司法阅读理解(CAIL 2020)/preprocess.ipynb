{
 "cells": [
  {
   "cell_type": "code",
   "execution_count": 8,
   "metadata": {},
   "outputs": [],
   "source": [
    "from transformers import AutoTokenizer, AutoModel, BertTokenizer, BertModel"
   ]
  },
  {
   "attachments": {},
   "cell_type": "markdown",
   "metadata": {},
   "source": [
    "## chinese-bert-wwm"
   ]
  },
  {
   "cell_type": "code",
   "execution_count": null,
   "metadata": {},
   "outputs": [],
   "source": [
    "!mkdir -p ./output/data/chinese-bert-wwm/"
   ]
  },
  {
   "cell_type": "code",
   "execution_count": null,
   "metadata": {},
   "outputs": [],
   "source": [
    "!python baseline/data_process.py \\\n",
    "    --tokenizer_path='../../../Download/chinese-bert-wwm' \\\n",
    "    --full_data='./data/train.json' \\\n",
    "    --example_output='./output/data/chinese-bert-wwm/train_example.pkl.gz' \\\n",
    "    --feature_output='./output/data/chinese-bert-wwm/train_feature.pkl.gz' "
   ]
  },
  {
   "cell_type": "code",
   "execution_count": null,
   "metadata": {},
   "outputs": [],
   "source": [
    "!python baseline/data_process.py \\\n",
    "    --tokenizer_path='../../../Download/chinese-bert-wwm' \\\n",
    "    --full_data='./data/dev.json' \\\n",
    "    --example_output='./output/data/chinese-bert-wwm/dev_example.pkl.gz' \\\n",
    "    --feature_output='./output/data/chinese-bert-wwm/dev_feature.pkl.gz' \n"
   ]
  },
  {
   "attachments": {},
   "cell_type": "markdown",
   "metadata": {},
   "source": [
    "## chinese-roberta-wwm-ext"
   ]
  },
  {
   "cell_type": "code",
   "execution_count": null,
   "metadata": {},
   "outputs": [],
   "source": [
    "!mkdir -p ./output/data/chinese-roberta-wwm-ext/"
   ]
  },
  {
   "cell_type": "code",
   "execution_count": null,
   "metadata": {},
   "outputs": [],
   "source": [
    "!python baseline/data_process.py \\\n",
    "    --tokenizer_path='../../../Download/chinese-roberta-wwm-ext' \\\n",
    "    --full_data='./data/train.json' \\\n",
    "    --example_output='./output/data/chinese-roberta-wwm-ext/train_example.pkl.gz' \\\n",
    "    --feature_output='./output/data/chinese-roberta-wwm-ext/train_feature.pkl.gz' "
   ]
  },
  {
   "cell_type": "code",
   "execution_count": null,
   "metadata": {},
   "outputs": [],
   "source": [
    "!python baseline/data_process.py \\\n",
    "    --tokenizer_path='../../../Download/chinese-roberta-wwm-ext' \\\n",
    "    --full_data='./data/dev.json' \\\n",
    "    --example_output='./output/data/chinese-roberta-wwm-ext/dev_example.pkl.gz' \\\n",
    "    --feature_output='./output/data/chinese-roberta-wwm-ext/dev_feature.pkl.gz' \n"
   ]
  },
  {
   "attachments": {},
   "cell_type": "markdown",
   "metadata": {},
   "source": [
    "## chinese-roberta-wwm-ext-large"
   ]
  },
  {
   "cell_type": "code",
   "execution_count": null,
   "metadata": {},
   "outputs": [],
   "source": [
    "!mkdir -p ./output/data/chinese-roberta-wwm-ext-large/"
   ]
  },
  {
   "cell_type": "code",
   "execution_count": null,
   "metadata": {},
   "outputs": [],
   "source": [
    "!python baseline/data_process.py \\\n",
    "    --tokenizer_path='../../../Download/chinese-roberta-wwm-ext-large' \\\n",
    "    --full_data='./data/train.json' \\\n",
    "    --example_output='./output/data/chinese-roberta-wwm-ext-large/train_example.pkl.gz' \\\n",
    "    --feature_output='./output/data/chinese-roberta-wwm-ext-large/train_feature.pkl.gz' "
   ]
  },
  {
   "cell_type": "code",
   "execution_count": null,
   "metadata": {},
   "outputs": [],
   "source": [
    "!python baseline/data_process.py \\\n",
    "    --tokenizer_path='../../../Download/chinese-roberta-wwm-ext-large' \\\n",
    "    --full_data='./data/dev.json' \\\n",
    "    --example_output='./output/data/chinese-roberta-wwm-ext-large/dev_example.pkl.gz' \\\n",
    "    --feature_output='./output/data/chinese-roberta-wwm-ext-large/dev_feature.pkl.gz' "
   ]
  },
  {
   "attachments": {},
   "cell_type": "markdown",
   "metadata": {},
   "source": [
    "## 清华民事文书BERT：thunlp-ms"
   ]
  },
  {
   "cell_type": "code",
   "execution_count": null,
   "metadata": {},
   "outputs": [],
   "source": [
    "!mkdir -p ./output/data/thunlp-ms/"
   ]
  },
  {
   "cell_type": "code",
   "execution_count": null,
   "metadata": {},
   "outputs": [],
   "source": [
    "!python baseline/data_process.py \\\n",
    "    --tokenizer_path='../../../Download/thunlp-ms' \\\n",
    "    --full_data='./data/train.json' \\\n",
    "    --example_output='./output/data/thunlp-ms/train_example.pkl.gz' \\\n",
    "    --feature_output='./output/data/thunlp-ms/train_feature.pkl.gz' "
   ]
  },
  {
   "cell_type": "code",
   "execution_count": null,
   "metadata": {},
   "outputs": [],
   "source": [
    "!python baseline/data_process.py \\\n",
    "    --tokenizer_path='../../../Download/thunlp-ms' \\\n",
    "    --full_data='./data/dev.json' \\\n",
    "    --example_output='./output/data/thunlp-ms/dev_example.pkl.gz' \\\n",
    "    --feature_output='./output/data/thunlp-ms/dev_feature.pkl.gz' \n"
   ]
  },
  {
   "attachments": {},
   "cell_type": "markdown",
   "metadata": {},
   "source": [
    "## chinese-roberta-wwm-ext-large + 2019 训练数据"
   ]
  },
  {
   "cell_type": "code",
   "execution_count": 7,
   "metadata": {},
   "outputs": [],
   "source": [
    "!mkdir -p ./output/data/chinese-roberta-wwm-ext-large_add19/\n",
    "!cp ./output/data/chinese-roberta-wwm-ext-large/dev_example.pkl.gz ./output/data/chinese-roberta-wwm-ext-large_add19\n",
    "!cp ./output/data/chinese-roberta-wwm-ext-large/dev_feature.pkl.gz ./output/data/chinese-roberta-wwm-ext-large_add19\n"
   ]
  },
  {
   "cell_type": "code",
   "execution_count": null,
   "metadata": {},
   "outputs": [],
   "source": [
    "!python baseline/data_process.py \\\n",
    "    --tokenizer_path='../../../Download/chinese-roberta-wwm-ext-large' \\\n",
    "    --full_data='./data/train.json' \\\n",
    "    --full_data_2019='./data/train_2019.json' \\\n",
    "    --example_output='./output/data/chinese-roberta-wwm-ext-large_add19/train_example.pkl.gz' \\\n",
    "    --feature_output='./output/data/chinese-roberta-wwm-ext-large_add19/train_feature.pkl.gz' "
   ]
  }
 ],
 "metadata": {
  "kernelspec": {
   "display_name": "nlp",
   "language": "python",
   "name": "python3"
  },
  "language_info": {
   "codemirror_mode": {
    "name": "ipython",
    "version": 3
   },
   "file_extension": ".py",
   "mimetype": "text/x-python",
   "name": "python",
   "nbconvert_exporter": "python",
   "pygments_lexer": "ipython3",
   "version": "3.10.9"
  },
  "orig_nbformat": 4
 },
 "nbformat": 4,
 "nbformat_minor": 2
}
